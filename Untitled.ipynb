{
 "cells": [
  {
   "cell_type": "code",
   "execution_count": 33,
   "metadata": {
    "collapsed": false
   },
   "outputs": [],
   "source": [
    "import numpy as np\n",
    "import matplotlib.pyplot as plt\n",
    "\n",
    "def compute_jaccard_similarity(a, b):\n",
    "    \"\"\"\n",
    "    Compute the Jaccard similarity between two given ActiveSite instances.\n",
    "\n",
    "    Input: two ActiveSite instances\n",
    "    Output: the similarity between them (a floating point number)\n",
    "    \"\"\"\n",
    "\n",
    "    similarity = 0.0\n",
    "    intersection = len(set(a) & set(b))\n",
    "    union = len(set(a) | set(b))\n",
    "    similarity = float(intersection)/float(union)\n",
    "    return similarity\n",
    "\n",
    "residues = ['A','B','C','D','E', 'F', 'G', 'H', 'I', 'J']\n",
    "active_sites = np.random.choice(residues, size = (100,10))\n",
    "\n",
    "pairwise_distances = []\n",
    "n = len(active_sites)\n",
    "for i in range(n):\n",
    "    for j in range(i+1,n):\n",
    "        label = [active_sites[i],active_sites[j]]\n",
    "        distance = compute_jaccard_similarity(active_sites[i],active_sites[j])\n",
    "        pairwise_distances.append((label,distance))"
   ]
  },
  {
   "cell_type": "code",
   "execution_count": 44,
   "metadata": {
    "collapsed": false
   },
   "outputs": [
    {
     "data": {
      "text/plain": [
       "[array(['D', 'J', 'G', 'C', 'G', 'B', 'G', 'A', 'I', 'J'], \n",
       "       dtype='<U1'), array(['A', 'B', 'D', 'C', 'I', 'G', 'J', 'A', 'I', 'A'], \n",
       "       dtype='<U1')]"
      ]
     },
     "execution_count": 44,
     "metadata": {},
     "output_type": "execute_result"
    }
   ],
   "source": [
    "max_value = max([i[1] for i in pairwise_distances])\n",
    "index = [i[1] for i in pairwise_distances].index(max_value)\n",
    "pairwise_distances[index][0]"
   ]
  },
  {
   "cell_type": "code",
   "execution_count": 40,
   "metadata": {
    "collapsed": false
   },
   "outputs": [
    {
     "data": {
      "text/plain": [
       "657"
      ]
     },
     "execution_count": 40,
     "metadata": {},
     "output_type": "execute_result"
    }
   ],
   "source": [
    "index"
   ]
  },
  {
   "cell_type": "code",
   "execution_count": null,
   "metadata": {
    "collapsed": true
   },
   "outputs": [],
   "source": []
  }
 ],
 "metadata": {
  "anaconda-cloud": {},
  "kernelspec": {
   "display_name": "Python [conda root]",
   "language": "python",
   "name": "conda-root-py"
  },
  "language_info": {
   "codemirror_mode": {
    "name": "ipython",
    "version": 3
   },
   "file_extension": ".py",
   "mimetype": "text/x-python",
   "name": "python",
   "nbconvert_exporter": "python",
   "pygments_lexer": "ipython3",
   "version": "3.5.2"
  }
 },
 "nbformat": 4,
 "nbformat_minor": 2
}
